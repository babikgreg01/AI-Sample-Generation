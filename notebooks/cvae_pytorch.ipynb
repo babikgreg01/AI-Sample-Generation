{
 "cells": [
  {
   "cell_type": "code",
   "execution_count": 1,
   "metadata": {},
   "outputs": [],
   "source": [
    "import os\n",
    "import torch\n",
    "import torch.nn as nn\n",
    "import torch.nn.functional as F\n",
    "from torch.autograd import Variable\n",
    "\n",
    "import torchvision\n",
    "from torch.utils.data import DataLoader\n",
    "from torchvision import transforms\n",
    "from torchvision.utils import save_image\n",
    "\n",
    "from IPython.display import Image\n",
    "from tqdm import tqdm\n",
    "\n",
    "from torchview import draw_graph\n",
    "import numpy as np\n",
    "\n",
    "import matplotlib.pyplot as plt\n",
    "\n",
    "import sys\n",
    "\n",
    "sys.path.append(\"../scripts\")\n",
    "from utils import NpyDataset\n"
   ]
  },
  {
   "cell_type": "code",
   "execution_count": 2,
   "metadata": {},
   "outputs": [
    {
     "name": "stdout",
     "output_type": "stream",
     "text": [
      "cuda available: True\n"
     ]
    }
   ],
   "source": [
    "bs = 128\n",
    "epochs = 10\n",
    "\n",
    "def to_var(x):\n",
    "    if torch.cuda.is_available():\n",
    "        x = x.cuda()\n",
    "    return Variable(x)\n",
    "\n",
    "print(\"cuda available:\", torch.cuda.is_available())"
   ]
  },
  {
   "cell_type": "code",
   "execution_count": 3,
   "metadata": {},
   "outputs": [],
   "source": [
    "base_dir = os.getcwd()\n",
    "data_folder = \"nfft2048_hop1024_nframes16\"\n",
    "processed_data_path = os.path.join(base_dir, 'data', 'training_processed', data_folder)\n",
    "\n",
    "#sorted(os.listdir(processed_data_path))\n",
    "# Load Data\n",
    "dataset = NpyDataset(processed_data_path)\n",
    "\n",
    "dataloader = DataLoader(dataset, batch_size=bs, shuffle=True)"
   ]
  },
  {
   "cell_type": "code",
   "execution_count": 4,
   "metadata": {},
   "outputs": [
    {
     "data": {
      "text/plain": [
       "torch.Size([128, 1, 1024, 16])"
      ]
     },
     "execution_count": 4,
     "metadata": {},
     "output_type": "execute_result"
    }
   ],
   "source": [
    "# Fixed input for debugging\n",
    "fixed_x, label = next(iter(dataloader))\n",
    "fixed_x.size()"
   ]
  },
  {
   "cell_type": "code",
   "execution_count": 5,
   "metadata": {},
   "outputs": [],
   "source": [
    "def conv_t2d_shape(H, stride, kernel_size, padding=0, output_padding=0):\n",
    "    dilation = 1\n",
    "    H_out = (H-1)*stride - 2*padding + dilation * (kernel_size - 1) + output_padding + 1\n",
    "    return H_out\n",
    "\n",
    "def conv_2d_shape(H, stride, kernel_size, padding=0):\n",
    "    H_out = (H - kernel_size + 2 * padding) // stride + 1\n",
    "    return H_out                                       "
   ]
  },
  {
   "cell_type": "code",
   "execution_count": 61,
   "metadata": {},
   "outputs": [
    {
     "name": "stdout",
     "output_type": "stream",
     "text": [
      "512\n",
      "256\n",
      "128\n",
      "64\n",
      "32\n"
     ]
    }
   ],
   "source": [
    "input_size = 1024\n",
    "input_size = conv_2d_shape(H=input_size, stride=2, kernel_size=3, padding=1)\n",
    "print(input_size)\n",
    "input_size = conv_2d_shape(H=input_size, stride=2, kernel_size=3, padding=1)\n",
    "print(input_size)\n",
    "input_size = conv_2d_shape(H=input_size, stride=2, kernel_size=3, padding=1)\n",
    "print(input_size)\n",
    "input_size = conv_2d_shape(H=input_size, stride=2, kernel_size=3, padding=1)\n",
    "print(input_size)\n",
    "input_size = conv_2d_shape(H=input_size, stride=2, kernel_size=3, padding=1)\n",
    "print(input_size)\n"
   ]
  },
  {
   "cell_type": "code",
   "execution_count": 11,
   "metadata": {},
   "outputs": [
    {
     "name": "stdout",
     "output_type": "stream",
     "text": [
      "16\n",
      "8\n",
      "4\n",
      "2\n",
      "1\n"
     ]
    }
   ],
   "source": [
    "input_size = 16\n",
    "input_size = conv_2d_shape(H=input_size, stride=1, kernel_size=3, padding=1)\n",
    "print(input_size)\n",
    "input_size = conv_2d_shape(H=input_size, stride=2, kernel_size=3, padding=1)\n",
    "print(input_size)\n",
    "input_size = conv_2d_shape(H=input_size, stride=2, kernel_size=3, padding=1)\n",
    "print(input_size)\n",
    "input_size = conv_2d_shape(H=input_size, stride=2, kernel_size=3, padding=1)\n",
    "print(input_size)\n",
    "input_size = conv_2d_shape(H=input_size, stride=2, kernel_size=3, padding=1)\n",
    "print(input_size)"
   ]
  },
  {
   "cell_type": "code",
   "execution_count": 27,
   "metadata": {},
   "outputs": [
    {
     "name": "stdout",
     "output_type": "stream",
     "text": [
      "64\n",
      "128\n",
      "256\n",
      "512\n",
      "1024\n"
     ]
    }
   ],
   "source": [
    "input_size = 32\n",
    "input_size = conv_t2d_shape(H=input_size, stride=2, kernel_size=3, padding=1, output_padding=1)\n",
    "print(input_size)\n",
    "input_size = conv_t2d_shape(H=input_size, stride=2, kernel_size=3, padding=1, output_padding=1)\n",
    "print(input_size)\n",
    "input_size = conv_t2d_shape(H=input_size, stride=2, kernel_size=3, padding=1, output_padding=1)\n",
    "print(input_size)\n",
    "input_size = conv_t2d_shape(H=input_size, stride=2, kernel_size=3, padding=1, output_padding=1)\n",
    "print(input_size)\n",
    "input_size = conv_t2d_shape(H=input_size, stride=2, kernel_size=3, padding=1, output_padding=1)\n",
    "print(input_size)\n",
    "\n"
   ]
  },
  {
   "cell_type": "code",
   "execution_count": 18,
   "metadata": {},
   "outputs": [
    {
     "name": "stdout",
     "output_type": "stream",
     "text": [
      "2\n",
      "4\n",
      "8\n",
      "16\n",
      "16\n"
     ]
    }
   ],
   "source": [
    "input_size = 1\n",
    "input_size = conv_t2d_shape(H=input_size, stride=2, kernel_size=3, padding=1, output_padding=1)\n",
    "print(input_size)\n",
    "input_size = conv_t2d_shape(H=input_size, stride=2, kernel_size=3, padding=1, output_padding=1)\n",
    "print(input_size)\n",
    "input_size = conv_t2d_shape(H=input_size, stride=2, kernel_size=3, padding=1, output_padding=1)\n",
    "print(input_size)\n",
    "input_size = conv_t2d_shape(H=input_size, stride=2, kernel_size=3, padding=1, output_padding=1)\n",
    "print(input_size)\n",
    "input_size = conv_t2d_shape(H=input_size, stride=1, kernel_size=3, padding=1, output_padding=0)\n",
    "print(input_size)\n"
   ]
  },
  {
   "cell_type": "code",
   "execution_count": 14,
   "metadata": {},
   "outputs": [],
   "source": [
    "class Flatten(nn.Module):\n",
    "    def forward(self, input):\n",
    "        return input.view(input.size(0), -1)\n",
    "\n",
    "\n",
    "class UnFlatten(nn.Module):\n",
    "    def forward(self, input, size=512):\n",
    "        return input.view(input.size(0), size, 32, 1)"
   ]
  },
  {
   "cell_type": "code",
   "execution_count": 69,
   "metadata": {},
   "outputs": [],
   "source": [
    "class CVAE(nn.Module):\n",
    "    def __init__(self, h_dim=16384, z_dim=2):\n",
    "        super(CVAE, self).__init__()\n",
    "        self.encoder = nn.Sequential(\n",
    "            # input shape: (bs, 1, 1024, 16)\n",
    "            nn.Conv2d(1, 32, kernel_size=3, stride=(2,1), padding=1),\n",
    "            nn.ReLU(),\n",
    "            # input shape: (bs, 32, 512, 16)\n",
    "            nn.Conv2d(32, 64, kernel_size=3, stride=(2,2), padding=1),\n",
    "            nn.ReLU(),\n",
    "            # input shape: (bs, 64, 256, 8)\n",
    "            nn.Conv2d(64, 128, kernel_size=3, stride=(2,2), padding=1),\n",
    "            nn.ReLU(),\n",
    "            # input shape: (bs, 128, 128, 4)\n",
    "            nn.Conv2d(128, 256, kernel_size=3, stride=(2,2), padding=1),\n",
    "            nn.ReLU(),\n",
    "            # input shape: (bs, 256, 64, 2)\n",
    "            nn.Conv2d(256, 512, kernel_size=3, stride=(2,2), padding=1),\n",
    "            nn.ReLU(),\n",
    "            # input shape: (bs, 512, 32, 1)\n",
    "            Flatten()\n",
    "        )\n",
    "        \n",
    "        self.fc1 = nn.Linear(h_dim, z_dim)\n",
    "        self.fc2 = nn.Linear(h_dim, z_dim)\n",
    "        self.fc3 = nn.Linear(z_dim, h_dim)\n",
    "           \n",
    "\n",
    "        self.decoder = nn.Sequential(\n",
    "            UnFlatten(),\n",
    "            # input shape: (bs, 512, 32, 1)\n",
    "            nn.ConvTranspose2d(512, 256, kernel_size=3, stride=(2,2), padding=1, output_padding=(1,1)),\n",
    "            nn.ReLU(),\n",
    "            # input shape: (bs, 256, 64, 2)\n",
    "            nn.ConvTranspose2d(256, 128, kernel_size=3, stride=(2,2), padding=1, output_padding=(1,1)),\n",
    "            nn.ReLU(),\n",
    "            # input shape: (bs, 128, 128, 4)\n",
    "            nn.ConvTranspose2d(128, 64, kernel_size=3, stride=(2,2), padding=1, output_padding=(1,1)),\n",
    "            nn.ReLU(),\n",
    "            # input shape: (bs, 64, 256, 8)\n",
    "            nn.ConvTranspose2d(64, 32, kernel_size=3, stride=(2,2), padding=1, output_padding=(1,1)),\n",
    "            nn.ReLU(),\n",
    "            # input shape: (bs, 32, 512, 16)\n",
    "            nn.ConvTranspose2d(32, 1, kernel_size=3, stride=(2,1), padding=1, output_padding=(1,0)),\n",
    "            nn.Sigmoid(),\n",
    "            # output shape: (bs, 1, 1024, 16)\n",
    "        )\n",
    "        \n",
    "    def reparameterize(self, mu, logvar):\n",
    "        std = logvar.mul(0.5).exp_()\n",
    "        # return torch.normal(mu, std)\n",
    "        esp = to_var(torch.randn(*mu.size()))\n",
    "        z = mu + std * esp\n",
    "        return z\n",
    "    \n",
    "    def bottleneck(self, h):\n",
    "        mu, logvar = self.fc1(h), self.fc2(h)\n",
    "        z = self.reparameterize(mu, logvar)\n",
    "        return z, mu, logvar\n",
    "\n",
    "    def encode(self, x):\n",
    "        h = self.encoder(x)\n",
    "        z, mu, logvar = self.bottleneck(h)\n",
    "        return z, mu, logvar\n",
    "\n",
    "    def decode(self, z):\n",
    "        z = self.fc3(z)\n",
    "        z = self.decoder(z)\n",
    "        return z\n",
    "\n",
    "    def forward(self, x):\n",
    "        z, mu, logvar = self.encode(x)\n",
    "        z = self.decode(z)\n",
    "        return z, mu, logvar"
   ]
  },
  {
   "cell_type": "code",
   "execution_count": 70,
   "metadata": {},
   "outputs": [
    {
     "data": {
      "text/plain": [
       "CVAE(\n",
       "  (encoder): Sequential(\n",
       "    (0): Conv2d(1, 32, kernel_size=(3, 3), stride=(2, 1), padding=(1, 1))\n",
       "    (1): ReLU()\n",
       "    (2): Conv2d(32, 64, kernel_size=(3, 3), stride=(2, 2), padding=(1, 1))\n",
       "    (3): ReLU()\n",
       "    (4): Conv2d(64, 128, kernel_size=(3, 3), stride=(2, 2), padding=(1, 1))\n",
       "    (5): ReLU()\n",
       "    (6): Conv2d(128, 256, kernel_size=(3, 3), stride=(2, 2), padding=(1, 1))\n",
       "    (7): ReLU()\n",
       "    (8): Conv2d(256, 512, kernel_size=(3, 3), stride=(2, 2), padding=(1, 1))\n",
       "    (9): ReLU()\n",
       "    (10): Flatten()\n",
       "  )\n",
       "  (fc1): Linear(in_features=16384, out_features=2, bias=True)\n",
       "  (fc2): Linear(in_features=16384, out_features=2, bias=True)\n",
       "  (fc3): Linear(in_features=2, out_features=16384, bias=True)\n",
       "  (decoder): Sequential(\n",
       "    (0): UnFlatten()\n",
       "    (1): ConvTranspose2d(512, 256, kernel_size=(3, 3), stride=(2, 2), padding=(1, 1), output_padding=(1, 1))\n",
       "    (2): ReLU()\n",
       "    (3): ConvTranspose2d(256, 128, kernel_size=(3, 3), stride=(2, 2), padding=(1, 1), output_padding=(1, 1))\n",
       "    (4): ReLU()\n",
       "    (5): ConvTranspose2d(128, 64, kernel_size=(3, 3), stride=(2, 2), padding=(1, 1), output_padding=(1, 1))\n",
       "    (6): ReLU()\n",
       "    (7): ConvTranspose2d(64, 32, kernel_size=(3, 3), stride=(2, 2), padding=(1, 1), output_padding=(1, 1))\n",
       "    (8): ReLU()\n",
       "    (9): ConvTranspose2d(32, 1, kernel_size=(3, 3), stride=(2, 1), padding=(1, 1), output_padding=(1, 0))\n",
       "    (10): Sigmoid()\n",
       "  )\n",
       ")"
      ]
     },
     "execution_count": 70,
     "metadata": {},
     "output_type": "execute_result"
    }
   ],
   "source": [
    "vae = CVAE()\n",
    "if torch.cuda.is_available():\n",
    "    vae.cuda()\n",
    "vae"
   ]
  },
  {
   "cell_type": "code",
   "execution_count": null,
   "metadata": {},
   "outputs": [],
   "source": [
    "# visualize model\n",
    "model_graph = draw_graph(vae, input_size=(128, 1, 1024, 16), expand_nested=True)\n",
    "model_graph.resize_graph(scale=5.0) # scale as per the view \n",
    "model_graph.visual_graph.render(format='svg')\n",
    "model_graph.visual_graph"
   ]
  },
  {
   "cell_type": "code",
   "execution_count": 72,
   "metadata": {},
   "outputs": [],
   "source": [
    "optimizer = torch.optim.Adam(vae.parameters(), lr=1e-3)"
   ]
  },
  {
   "cell_type": "code",
   "execution_count": 73,
   "metadata": {},
   "outputs": [],
   "source": [
    "def loss_fn(recon_x, x, mu, logvar):\n",
    "    BCE = F.binary_cross_entropy(recon_x, x, reduction='sum')\n",
    "\n",
    "    # see Appendix B from VAE paper:\n",
    "    # Kingma and Welling. Auto-Encoding Variational Bayes. ICLR, 2014\n",
    "    # 0.5 * sum(1 + log(sigma^2) - mu^2 - sigma^2)\n",
    "    KLD = -0.5 * torch.sum(1 + logvar - mu**2 -  logvar.exp())\n",
    "    return BCE + KLD"
   ]
  },
  {
   "cell_type": "code",
   "execution_count": 75,
   "metadata": {},
   "outputs": [],
   "source": [
    "epochs = 20"
   ]
  },
  {
   "cell_type": "code",
   "execution_count": 76,
   "metadata": {},
   "outputs": [
    {
     "name": "stderr",
     "output_type": "stream",
     "text": [
      "Epoch[1/20]: 100%|██████████| 24/24 [00:04<00:00,  5.15batch/s]\n"
     ]
    },
    {
     "name": "stdout",
     "output_type": "stream",
     "text": [
      "Average Loss: 7121.954976399739\n"
     ]
    },
    {
     "name": "stderr",
     "output_type": "stream",
     "text": [
      "Epoch[2/20]: 100%|██████████| 24/24 [00:04<00:00,  5.34batch/s]\n"
     ]
    },
    {
     "name": "stdout",
     "output_type": "stream",
     "text": [
      "Average Loss: 4495.210906982422\n"
     ]
    },
    {
     "name": "stderr",
     "output_type": "stream",
     "text": [
      "Epoch[3/20]: 100%|██████████| 24/24 [00:04<00:00,  5.38batch/s]\n"
     ]
    },
    {
     "name": "stdout",
     "output_type": "stream",
     "text": [
      "Average Loss: 3861.1686096191406\n"
     ]
    },
    {
     "name": "stderr",
     "output_type": "stream",
     "text": [
      "Epoch[4/20]: 100%|██████████| 24/24 [00:04<00:00,  5.37batch/s]\n"
     ]
    },
    {
     "name": "stdout",
     "output_type": "stream",
     "text": [
      "Average Loss: 3568.7517700195312\n"
     ]
    },
    {
     "name": "stderr",
     "output_type": "stream",
     "text": [
      "Epoch[5/20]: 100%|██████████| 24/24 [00:04<00:00,  5.32batch/s]\n"
     ]
    },
    {
     "name": "stdout",
     "output_type": "stream",
     "text": [
      "Average Loss: 3441.604319254557\n"
     ]
    },
    {
     "name": "stderr",
     "output_type": "stream",
     "text": [
      "Epoch[6/20]: 100%|██████████| 24/24 [00:04<00:00,  5.19batch/s]\n"
     ]
    },
    {
     "name": "stdout",
     "output_type": "stream",
     "text": [
      "Average Loss: 3387.818674723307\n"
     ]
    },
    {
     "name": "stderr",
     "output_type": "stream",
     "text": [
      "Epoch[7/20]: 100%|██████████| 24/24 [00:04<00:00,  5.35batch/s]\n"
     ]
    },
    {
     "name": "stdout",
     "output_type": "stream",
     "text": [
      "Average Loss: 3361.375\n"
     ]
    },
    {
     "name": "stderr",
     "output_type": "stream",
     "text": [
      "Epoch[8/20]: 100%|██████████| 24/24 [00:04<00:00,  5.33batch/s]\n"
     ]
    },
    {
     "name": "stdout",
     "output_type": "stream",
     "text": [
      "Average Loss: 3347.4534352620444\n"
     ]
    },
    {
     "name": "stderr",
     "output_type": "stream",
     "text": [
      "Epoch[9/20]: 100%|██████████| 24/24 [00:04<00:00,  5.37batch/s]\n"
     ]
    },
    {
     "name": "stdout",
     "output_type": "stream",
     "text": [
      "Average Loss: 3332.4338887532554\n"
     ]
    },
    {
     "name": "stderr",
     "output_type": "stream",
     "text": [
      "Epoch[10/20]: 100%|██████████| 24/24 [00:04<00:00,  5.29batch/s]\n"
     ]
    },
    {
     "name": "stdout",
     "output_type": "stream",
     "text": [
      "Average Loss: 3325.708241780599\n"
     ]
    },
    {
     "name": "stderr",
     "output_type": "stream",
     "text": [
      "Epoch[11/20]: 100%|██████████| 24/24 [00:04<00:00,  5.38batch/s]\n"
     ]
    },
    {
     "name": "stdout",
     "output_type": "stream",
     "text": [
      "Average Loss: 3321.8589782714844\n"
     ]
    },
    {
     "name": "stderr",
     "output_type": "stream",
     "text": [
      "Epoch[12/20]: 100%|██████████| 24/24 [00:04<00:00,  4.83batch/s]\n"
     ]
    },
    {
     "name": "stdout",
     "output_type": "stream",
     "text": [
      "Average Loss: 3313.4052124023438\n"
     ]
    },
    {
     "name": "stderr",
     "output_type": "stream",
     "text": [
      "Epoch[13/20]: 100%|██████████| 24/24 [00:04<00:00,  5.22batch/s]\n"
     ]
    },
    {
     "name": "stdout",
     "output_type": "stream",
     "text": [
      "Average Loss: 3313.6671142578125\n"
     ]
    },
    {
     "name": "stderr",
     "output_type": "stream",
     "text": [
      "Epoch[14/20]: 100%|██████████| 24/24 [00:04<00:00,  4.91batch/s]\n"
     ]
    },
    {
     "name": "stdout",
     "output_type": "stream",
     "text": [
      "Average Loss: 3310.3214213053384\n"
     ]
    },
    {
     "name": "stderr",
     "output_type": "stream",
     "text": [
      "Epoch[15/20]: 100%|██████████| 24/24 [00:04<00:00,  5.19batch/s]\n"
     ]
    },
    {
     "name": "stdout",
     "output_type": "stream",
     "text": [
      "Average Loss: 3306.3302205403647\n"
     ]
    },
    {
     "name": "stderr",
     "output_type": "stream",
     "text": [
      "Epoch[16/20]: 100%|██████████| 24/24 [00:04<00:00,  5.28batch/s]\n"
     ]
    },
    {
     "name": "stdout",
     "output_type": "stream",
     "text": [
      "Average Loss: 3306.950368245443\n"
     ]
    },
    {
     "name": "stderr",
     "output_type": "stream",
     "text": [
      "Epoch[17/20]: 100%|██████████| 24/24 [00:04<00:00,  5.62batch/s]\n"
     ]
    },
    {
     "name": "stdout",
     "output_type": "stream",
     "text": [
      "Average Loss: 3305.2432963053384\n"
     ]
    },
    {
     "name": "stderr",
     "output_type": "stream",
     "text": [
      "Epoch[18/20]: 100%|██████████| 24/24 [00:04<00:00,  5.57batch/s]\n"
     ]
    },
    {
     "name": "stdout",
     "output_type": "stream",
     "text": [
      "Average Loss: 3299.2188415527344\n"
     ]
    },
    {
     "name": "stderr",
     "output_type": "stream",
     "text": [
      "Epoch[19/20]: 100%|██████████| 24/24 [00:04<00:00,  5.51batch/s]\n"
     ]
    },
    {
     "name": "stdout",
     "output_type": "stream",
     "text": [
      "Average Loss: 3299.1414744059243\n"
     ]
    },
    {
     "name": "stderr",
     "output_type": "stream",
     "text": [
      "Epoch[20/20]: 100%|██████████| 24/24 [00:04<00:00,  5.30batch/s]"
     ]
    },
    {
     "name": "stdout",
     "output_type": "stream",
     "text": [
      "Average Loss: 3298.9303385416665\n"
     ]
    },
    {
     "name": "stderr",
     "output_type": "stream",
     "text": [
      "\n"
     ]
    }
   ],
   "source": [
    "\n",
    "for epoch in range(epochs):\n",
    "    epoch_loss = 0\n",
    "    for idx, (images, _) in enumerate(tqdm(dataloader, desc=\"Epoch[{}/{}]\".format(epoch+1, epochs), unit=\"batch\")):\n",
    "        #images = flatten(images)\n",
    "        recon_images, mu, logvar = vae(to_var(images))\n",
    "        loss = loss_fn(recon_images, to_var(images), mu, logvar)\n",
    "\n",
    "        optimizer.zero_grad()\n",
    "        loss.backward()\n",
    "        optimizer.step()\n",
    "        batch_loss = loss.item()/bs\n",
    "        epoch_loss += batch_loss\n",
    "    \n",
    "        #tqdm.set_postfix(loss=loss.item()/bs, accuracy=0.9)\n",
    "    print(\"Average Loss: {}\".format(epoch_loss/24))\n",
    "        #if idx%100 == 0:\n",
    "        #    print(\"Epoch[{}/{}] Loss: {:.3f}\".format(epoch+1, epochs, loss.item()/bs))\n",
    "    \n",
    "            #recon_x, _, _ = vae(fixed_x)\n",
    "            #save_image(recon_x.view(recon_x.size(0), 1, 28, 28).data.cpu(), f'data/reconstructed_MNIST/recon_image_{epoch}_{idx}.png')\n"
   ]
  },
  {
   "cell_type": "code",
   "execution_count": 97,
   "metadata": {},
   "outputs": [],
   "source": [
    "num_samples = 100\n",
    "sample = Variable(torch.randn(num_samples, 2)).cuda()\n",
    "recon_x = vae.decode(sample)\n",
    "#recon_x, _, _ = vae(fixed_x)\n",
    "\n",
    "\n",
    "recon_x = recon_x.detach().cpu().numpy()\n",
    "\n",
    "for i in range(num_samples):\n",
    "    np.save('data/sample_vae/sample{}'.format(i), recon_x[i,0,:,:])\n",
    "\n",
    "\n",
    "\n",
    "\n",
    "#save_image(recon_x.view(recon_x.size(0), 1, 1024, 16).data.cpu(), 'data/sample_vae/sample_image1.png')\n",
    "#Image('data/sample_vae/sample_image1.png')\n",
    "\n"
   ]
  },
  {
   "cell_type": "code",
   "execution_count": 78,
   "metadata": {},
   "outputs": [],
   "source": [
    "latent_points = []\n",
    "latent_labels = []\n",
    "\n",
    "\n",
    "for idx, (images, labels) in enumerate(dataloader):\n",
    "    #images = flatten(images)\n",
    "    recon_images, mu, logvar = vae(to_var(images))\n",
    "\n",
    "    latent_points.append(mu.cpu().detach().numpy())\n",
    "    latent_labels.append(labels.cpu().detach().numpy())\n",
    "\n",
    "\n",
    "\n",
    "#latent_points = np.array(latent_points)\n",
    "#latent_labels = np.array(latent_labels)\n",
    "latent_points = np.concatenate(latent_points, axis=0)\n",
    "latent_labels = np.concatenate(latent_labels, axis=0)\n"
   ]
  },
  {
   "cell_type": "code",
   "execution_count": 79,
   "metadata": {},
   "outputs": [
    {
     "data": {
      "text/plain": [
       "(3022, 2)"
      ]
     },
     "execution_count": 79,
     "metadata": {},
     "output_type": "execute_result"
    }
   ],
   "source": [
    "\n",
    "np.shape(latent_points)"
   ]
  },
  {
   "cell_type": "code",
   "execution_count": 80,
   "metadata": {},
   "outputs": [
    {
     "data": {
      "text/plain": [
       "array([ 0.37394968, -0.06941716], dtype=float32)"
      ]
     },
     "execution_count": 80,
     "metadata": {},
     "output_type": "execute_result"
    }
   ],
   "source": [
    "latent_points[0]"
   ]
  },
  {
   "cell_type": "code",
   "execution_count": 83,
   "metadata": {},
   "outputs": [
    {
     "data": {
      "text/plain": [
       "Text(0.5, 1.0, 'Scatter Plot of 2D Points with Labels')"
      ]
     },
     "execution_count": 83,
     "metadata": {},
     "output_type": "execute_result"
    },
    {
     "data": {
      "image/png": "[encoded data removed]",
      "text/plain": [
       "<Figure size 1000x600 with 2 Axes>"
      ]
     },
     "metadata": {},
     "output_type": "display_data"
    }
   ],
   "source": [
    "plt.figure(figsize=(10, 6))  # Set the figure size as needed\n",
    "scatter = plt.scatter(latent_points[:, 0], latent_points[:, 1], c=latent_labels, cmap='hsv', s=2.0)\n",
    "# Add colorbar\n",
    "plt.colorbar(scatter, label='Labels')\n",
    "\n",
    "# Set axis labels and title\n",
    "plt.xlabel('X-axis')\n",
    "plt.ylabel('Y-axis')\n",
    "plt.title('Scatter Plot of 2D Points with Labels')"
   ]
  },
  {
   "cell_type": "code",
   "execution_count": null,
   "metadata": {},
   "outputs": [],
   "source": []
  }
 ],
 "metadata": {
  "kernelspec": {
   "display_name": "Python 3",
   "language": "python",
   "name": "python3"
  },
  "language_info": {
   "codemirror_mode": {
    "name": "ipython",
    "version": 3
   },
   "file_extension": ".py",
   "mimetype": "text/x-python",
   "name": "python",
   "nbconvert_exporter": "python",
   "pygments_lexer": "ipython3",
   "version": "3.8.16"
  }
 },
 "nbformat": 4,
 "nbformat_minor": 2
}
